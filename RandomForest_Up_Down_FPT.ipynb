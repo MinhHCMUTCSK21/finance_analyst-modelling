{
 "cells": [
  {
   "cell_type": "code",
   "execution_count": 1,
   "metadata": {},
   "outputs": [],
   "source": [
    "import pandas as pd\n",
    "import numpy as np\n",
    "import matplotlib.pyplot as plt\n",
    "import seaborn as sns"
   ]
  },
  {
   "cell_type": "code",
   "execution_count": 2,
   "metadata": {},
   "outputs": [],
   "source": [
    "df = pd.read_csv('FPT.csv')"
   ]
  },
  {
   "cell_type": "code",
   "execution_count": 3,
   "metadata": {},
   "outputs": [
    {
     "data": {
      "text/html": [
       "<div>\n",
       "<style scoped>\n",
       "    .dataframe tbody tr th:only-of-type {\n",
       "        vertical-align: middle;\n",
       "    }\n",
       "\n",
       "    .dataframe tbody tr th {\n",
       "        vertical-align: top;\n",
       "    }\n",
       "\n",
       "    .dataframe thead th {\n",
       "        text-align: right;\n",
       "    }\n",
       "</style>\n",
       "<table border=\"1\" class=\"dataframe\">\n",
       "  <thead>\n",
       "    <tr style=\"text-align: right;\">\n",
       "      <th></th>\n",
       "      <th>Ticker</th>\n",
       "      <th>Date/Time</th>\n",
       "      <th>Open</th>\n",
       "      <th>High</th>\n",
       "      <th>Low</th>\n",
       "      <th>Close</th>\n",
       "      <th>Volume</th>\n",
       "      <th>Open Interest</th>\n",
       "    </tr>\n",
       "  </thead>\n",
       "  <tbody>\n",
       "    <tr>\n",
       "      <th>0</th>\n",
       "      <td>FPT</td>\n",
       "      <td>12/25/2018 9:15</td>\n",
       "      <td>30.89</td>\n",
       "      <td>30.89</td>\n",
       "      <td>30.89</td>\n",
       "      <td>30.89</td>\n",
       "      <td>35410</td>\n",
       "      <td>0</td>\n",
       "    </tr>\n",
       "    <tr>\n",
       "      <th>1</th>\n",
       "      <td>FPT</td>\n",
       "      <td>12/25/2018 9:16</td>\n",
       "      <td>30.81</td>\n",
       "      <td>30.81</td>\n",
       "      <td>30.81</td>\n",
       "      <td>30.81</td>\n",
       "      <td>190</td>\n",
       "      <td>0</td>\n",
       "    </tr>\n",
       "    <tr>\n",
       "      <th>2</th>\n",
       "      <td>FPT</td>\n",
       "      <td>12/25/2018 9:17</td>\n",
       "      <td>30.74</td>\n",
       "      <td>30.81</td>\n",
       "      <td>30.74</td>\n",
       "      <td>30.74</td>\n",
       "      <td>1120</td>\n",
       "      <td>0</td>\n",
       "    </tr>\n",
       "    <tr>\n",
       "      <th>3</th>\n",
       "      <td>FPT</td>\n",
       "      <td>12/25/2018 9:18</td>\n",
       "      <td>30.74</td>\n",
       "      <td>30.74</td>\n",
       "      <td>30.74</td>\n",
       "      <td>30.74</td>\n",
       "      <td>2120</td>\n",
       "      <td>0</td>\n",
       "    </tr>\n",
       "    <tr>\n",
       "      <th>4</th>\n",
       "      <td>FPT</td>\n",
       "      <td>12/25/2018 9:19</td>\n",
       "      <td>30.74</td>\n",
       "      <td>30.74</td>\n",
       "      <td>30.74</td>\n",
       "      <td>30.74</td>\n",
       "      <td>22500</td>\n",
       "      <td>0</td>\n",
       "    </tr>\n",
       "  </tbody>\n",
       "</table>\n",
       "</div>"
      ],
      "text/plain": [
       "  Ticker        Date/Time   Open   High    Low  Close  Volume  Open Interest\n",
       "0    FPT  12/25/2018 9:15  30.89  30.89  30.89  30.89   35410              0\n",
       "1    FPT  12/25/2018 9:16  30.81  30.81  30.81  30.81     190              0\n",
       "2    FPT  12/25/2018 9:17  30.74  30.81  30.74  30.74    1120              0\n",
       "3    FPT  12/25/2018 9:18  30.74  30.74  30.74  30.74    2120              0\n",
       "4    FPT  12/25/2018 9:19  30.74  30.74  30.74  30.74   22500              0"
      ]
     },
     "execution_count": 3,
     "metadata": {},
     "output_type": "execute_result"
    }
   ],
   "source": [
    "df.head()"
   ]
  },
  {
   "cell_type": "code",
   "execution_count": 4,
   "metadata": {},
   "outputs": [
    {
     "name": "stdout",
     "output_type": "stream",
     "text": [
      "<class 'pandas.core.frame.DataFrame'>\n",
      "RangeIndex: 97406 entries, 0 to 97405\n",
      "Data columns (total 8 columns):\n",
      " #   Column         Non-Null Count  Dtype  \n",
      "---  ------         --------------  -----  \n",
      " 0   Ticker         97406 non-null  object \n",
      " 1   Date/Time      97406 non-null  object \n",
      " 2   Open           97406 non-null  float64\n",
      " 3   High           97406 non-null  float64\n",
      " 4   Low            97406 non-null  float64\n",
      " 5   Close          97406 non-null  float64\n",
      " 6   Volume         97406 non-null  int64  \n",
      " 7   Open Interest  97406 non-null  int64  \n",
      "dtypes: float64(4), int64(2), object(2)\n",
      "memory usage: 5.9+ MB\n"
     ]
    }
   ],
   "source": [
    "df.info()"
   ]
  },
  {
   "cell_type": "code",
   "execution_count": 5,
   "metadata": {},
   "outputs": [
    {
     "data": {
      "text/plain": [
       "Open Interest\n",
       "0    97406\n",
       "Name: count, dtype: int64"
      ]
     },
     "execution_count": 5,
     "metadata": {},
     "output_type": "execute_result"
    }
   ],
   "source": [
    "df['Open Interest'].value_counts()"
   ]
  },
  {
   "cell_type": "code",
   "execution_count": 28,
   "metadata": {},
   "outputs": [
    {
     "data": {
      "text/plain": [
       "[<matplotlib.lines.Line2D at 0x262c6476ea0>]"
      ]
     },
     "execution_count": 28,
     "metadata": {},
     "output_type": "execute_result"
    },
    {
     "data": {
      "image/png": "[encoded data removed]",
      "text/plain": [
       "<Figure size 640x480 with 1 Axes>"
      ]
     },
     "metadata": {},
     "output_type": "display_data"
    }
   ],
   "source": [
    "grouped = df.groupby(df['Date/Time'].dt.date)\n",
    "dfs = [group for _, group in grouped]\n",
    "list = []\n",
    "\n",
    "for df1 in dfs:\n",
    "    list.append(len(df1))\n",
    "\n",
    "plt.plot(list)"
   ]
  },
  {
   "cell_type": "code",
   "execution_count": 6,
   "metadata": {},
   "outputs": [],
   "source": [
    "df.drop(columns=['Open Interest'], inplace=True)"
   ]
  },
  {
   "cell_type": "code",
   "execution_count": 7,
   "metadata": {},
   "outputs": [],
   "source": [
    "df['Date/Time'] = pd.to_datetime(df['Date/Time'])"
   ]
  },
  {
   "cell_type": "code",
   "execution_count": 8,
   "metadata": {},
   "outputs": [
    {
     "data": {
      "text/plain": [
       "<Axes: >"
      ]
     },
     "execution_count": 8,
     "metadata": {},
     "output_type": "execute_result"
    },
    {
     "data": {
      "image/png": "[encoded data removed]",
      "text/plain": [
       "<Figure size 640x480 with 2 Axes>"
      ]
     },
     "metadata": {},
     "output_type": "display_data"
    }
   ],
   "source": [
    "sns.heatmap(df.corr(method='pearson',numeric_only=True), annot=True, fmt='.2f', cmap='YlGnBu')"
   ]
  },
  {
   "cell_type": "code",
   "execution_count": 9,
   "metadata": {},
   "outputs": [],
   "source": [
    "df['Next Turn'] = df['Close'].shift(-1)"
   ]
  },
  {
   "cell_type": "code",
   "execution_count": 10,
   "metadata": {},
   "outputs": [],
   "source": [
    "df['Price volatility'] = (df['Next Turn'] > df['Close']).astype(int)"
   ]
  },
  {
   "cell_type": "code",
   "execution_count": 11,
   "metadata": {},
   "outputs": [
    {
     "data": {
      "text/html": [
       "<div>\n",
       "<style scoped>\n",
       "    .dataframe tbody tr th:only-of-type {\n",
       "        vertical-align: middle;\n",
       "    }\n",
       "\n",
       "    .dataframe tbody tr th {\n",
       "        vertical-align: top;\n",
       "    }\n",
       "\n",
       "    .dataframe thead th {\n",
       "        text-align: right;\n",
       "    }\n",
       "</style>\n",
       "<table border=\"1\" class=\"dataframe\">\n",
       "  <thead>\n",
       "    <tr style=\"text-align: right;\">\n",
       "      <th></th>\n",
       "      <th>Ticker</th>\n",
       "      <th>Date/Time</th>\n",
       "      <th>Open</th>\n",
       "      <th>High</th>\n",
       "      <th>Low</th>\n",
       "      <th>Close</th>\n",
       "      <th>Volume</th>\n",
       "      <th>Next Turn</th>\n",
       "      <th>Price volatility</th>\n",
       "    </tr>\n",
       "  </thead>\n",
       "  <tbody>\n",
       "    <tr>\n",
       "      <th>0</th>\n",
       "      <td>FPT</td>\n",
       "      <td>2018-12-25 09:15:00</td>\n",
       "      <td>30.89</td>\n",
       "      <td>30.89</td>\n",
       "      <td>30.89</td>\n",
       "      <td>30.89</td>\n",
       "      <td>35410</td>\n",
       "      <td>30.81</td>\n",
       "      <td>0</td>\n",
       "    </tr>\n",
       "    <tr>\n",
       "      <th>1</th>\n",
       "      <td>FPT</td>\n",
       "      <td>2018-12-25 09:16:00</td>\n",
       "      <td>30.81</td>\n",
       "      <td>30.81</td>\n",
       "      <td>30.81</td>\n",
       "      <td>30.81</td>\n",
       "      <td>190</td>\n",
       "      <td>30.74</td>\n",
       "      <td>0</td>\n",
       "    </tr>\n",
       "    <tr>\n",
       "      <th>2</th>\n",
       "      <td>FPT</td>\n",
       "      <td>2018-12-25 09:17:00</td>\n",
       "      <td>30.74</td>\n",
       "      <td>30.81</td>\n",
       "      <td>30.74</td>\n",
       "      <td>30.74</td>\n",
       "      <td>1120</td>\n",
       "      <td>30.74</td>\n",
       "      <td>0</td>\n",
       "    </tr>\n",
       "    <tr>\n",
       "      <th>3</th>\n",
       "      <td>FPT</td>\n",
       "      <td>2018-12-25 09:18:00</td>\n",
       "      <td>30.74</td>\n",
       "      <td>30.74</td>\n",
       "      <td>30.74</td>\n",
       "      <td>30.74</td>\n",
       "      <td>2120</td>\n",
       "      <td>30.74</td>\n",
       "      <td>0</td>\n",
       "    </tr>\n",
       "    <tr>\n",
       "      <th>4</th>\n",
       "      <td>FPT</td>\n",
       "      <td>2018-12-25 09:19:00</td>\n",
       "      <td>30.74</td>\n",
       "      <td>30.74</td>\n",
       "      <td>30.74</td>\n",
       "      <td>30.74</td>\n",
       "      <td>22500</td>\n",
       "      <td>30.74</td>\n",
       "      <td>0</td>\n",
       "    </tr>\n",
       "    <tr>\n",
       "      <th>...</th>\n",
       "      <td>...</td>\n",
       "      <td>...</td>\n",
       "      <td>...</td>\n",
       "      <td>...</td>\n",
       "      <td>...</td>\n",
       "      <td>...</td>\n",
       "      <td>...</td>\n",
       "      <td>...</td>\n",
       "      <td>...</td>\n",
       "    </tr>\n",
       "    <tr>\n",
       "      <th>97401</th>\n",
       "      <td>FPT</td>\n",
       "      <td>2020-12-22 14:24:00</td>\n",
       "      <td>58.20</td>\n",
       "      <td>58.20</td>\n",
       "      <td>58.20</td>\n",
       "      <td>58.20</td>\n",
       "      <td>27470</td>\n",
       "      <td>58.20</td>\n",
       "      <td>0</td>\n",
       "    </tr>\n",
       "    <tr>\n",
       "      <th>97402</th>\n",
       "      <td>FPT</td>\n",
       "      <td>2020-12-22 14:25:00</td>\n",
       "      <td>58.20</td>\n",
       "      <td>58.20</td>\n",
       "      <td>58.20</td>\n",
       "      <td>58.20</td>\n",
       "      <td>14820</td>\n",
       "      <td>58.20</td>\n",
       "      <td>0</td>\n",
       "    </tr>\n",
       "    <tr>\n",
       "      <th>97403</th>\n",
       "      <td>FPT</td>\n",
       "      <td>2020-12-22 14:26:00</td>\n",
       "      <td>58.20</td>\n",
       "      <td>58.20</td>\n",
       "      <td>58.20</td>\n",
       "      <td>58.20</td>\n",
       "      <td>500</td>\n",
       "      <td>58.10</td>\n",
       "      <td>0</td>\n",
       "    </tr>\n",
       "    <tr>\n",
       "      <th>97404</th>\n",
       "      <td>FPT</td>\n",
       "      <td>2020-12-22 14:29:00</td>\n",
       "      <td>58.10</td>\n",
       "      <td>58.10</td>\n",
       "      <td>58.10</td>\n",
       "      <td>58.10</td>\n",
       "      <td>2500</td>\n",
       "      <td>58.10</td>\n",
       "      <td>0</td>\n",
       "    </tr>\n",
       "    <tr>\n",
       "      <th>97405</th>\n",
       "      <td>FPT</td>\n",
       "      <td>2020-12-22 14:46:00</td>\n",
       "      <td>58.10</td>\n",
       "      <td>58.10</td>\n",
       "      <td>58.10</td>\n",
       "      <td>58.10</td>\n",
       "      <td>11170</td>\n",
       "      <td>NaN</td>\n",
       "      <td>0</td>\n",
       "    </tr>\n",
       "  </tbody>\n",
       "</table>\n",
       "<p>97406 rows × 9 columns</p>\n",
       "</div>"
      ],
      "text/plain": [
       "      Ticker           Date/Time   Open   High    Low  Close  Volume  \\\n",
       "0        FPT 2018-12-25 09:15:00  30.89  30.89  30.89  30.89   35410   \n",
       "1        FPT 2018-12-25 09:16:00  30.81  30.81  30.81  30.81     190   \n",
       "2        FPT 2018-12-25 09:17:00  30.74  30.81  30.74  30.74    1120   \n",
       "3        FPT 2018-12-25 09:18:00  30.74  30.74  30.74  30.74    2120   \n",
       "4        FPT 2018-12-25 09:19:00  30.74  30.74  30.74  30.74   22500   \n",
       "...      ...                 ...    ...    ...    ...    ...     ...   \n",
       "97401    FPT 2020-12-22 14:24:00  58.20  58.20  58.20  58.20   27470   \n",
       "97402    FPT 2020-12-22 14:25:00  58.20  58.20  58.20  58.20   14820   \n",
       "97403    FPT 2020-12-22 14:26:00  58.20  58.20  58.20  58.20     500   \n",
       "97404    FPT 2020-12-22 14:29:00  58.10  58.10  58.10  58.10    2500   \n",
       "97405    FPT 2020-12-22 14:46:00  58.10  58.10  58.10  58.10   11170   \n",
       "\n",
       "       Next Turn  Price volatility  \n",
       "0          30.81                 0  \n",
       "1          30.74                 0  \n",
       "2          30.74                 0  \n",
       "3          30.74                 0  \n",
       "4          30.74                 0  \n",
       "...          ...               ...  \n",
       "97401      58.20                 0  \n",
       "97402      58.20                 0  \n",
       "97403      58.10                 0  \n",
       "97404      58.10                 0  \n",
       "97405        NaN                 0  \n",
       "\n",
       "[97406 rows x 9 columns]"
      ]
     },
     "execution_count": 11,
     "metadata": {},
     "output_type": "execute_result"
    }
   ],
   "source": [
    "df"
   ]
  },
  {
   "cell_type": "markdown",
   "metadata": {},
   "source": [
    "0 - Equal or Down\n",
    "1 - Up\n"
   ]
  },
  {
   "cell_type": "code",
   "execution_count": 12,
   "metadata": {},
   "outputs": [
    {
     "data": {
      "text/plain": [
       "Price volatility\n",
       "0    77106\n",
       "1    20300\n",
       "Name: count, dtype: int64"
      ]
     },
     "execution_count": 12,
     "metadata": {},
     "output_type": "execute_result"
    }
   ],
   "source": [
    "df['Price volatility'].value_counts()"
   ]
  },
  {
   "cell_type": "code",
   "execution_count": 13,
   "metadata": {},
   "outputs": [],
   "source": [
    "from sklearn.ensemble import RandomForestClassifier\n"
   ]
  },
  {
   "cell_type": "code",
   "execution_count": 14,
   "metadata": {},
   "outputs": [
    {
     "data": {
      "text/plain": [
       "Ticker                              FPT\n",
       "Date/Time           2020-08-14 09:34:00\n",
       "Open                              48.05\n",
       "High                               48.1\n",
       "Low                               48.05\n",
       "Close                              48.1\n",
       "Volume                            14320\n",
       "Next Turn                          48.1\n",
       "Price volatility                      0\n",
       "Name: 77925, dtype: object"
      ]
     },
     "execution_count": 14,
     "metadata": {},
     "output_type": "execute_result"
    }
   ],
   "source": [
    "df.loc[round(97406*0.8)]"
   ]
  },
  {
   "cell_type": "code",
   "execution_count": 15,
   "metadata": {},
   "outputs": [],
   "source": [
    "from datetime import datetime\n",
    "date_string = '2020-08-14 09:34:00'\n",
    "\n",
    "date = datetime.strptime(date_string, '%Y-%m-%d %H:%M:%S')\n",
    "\n",
    "train = df[df['Date/Time']<=date]\n",
    "test = df[df['Date/Time']>date]"
   ]
  },
  {
   "cell_type": "code",
   "execution_count": 16,
   "metadata": {},
   "outputs": [
    {
     "data": {
      "text/html": [
       "<style>#sk-container-id-1 {color: black;}#sk-container-id-1 pre{padding: 0;}#sk-container-id-1 div.sk-toggleable {background-color: white;}#sk-container-id-1 label.sk-toggleable__label {cursor: pointer;display: block;width: 100%;margin-bottom: 0;padding: 0.3em;box-sizing: border-box;text-align: center;}#sk-container-id-1 label.sk-toggleable__label-arrow:before {content: \"▸\";float: left;margin-right: 0.25em;color: #696969;}#sk-container-id-1 label.sk-toggleable__label-arrow:hover:before {color: black;}#sk-container-id-1 div.sk-estimator:hover label.sk-toggleable__label-arrow:before {color: black;}#sk-container-id-1 div.sk-toggleable__content {max-height: 0;max-width: 0;overflow: hidden;text-align: left;background-color: #f0f8ff;}#sk-container-id-1 div.sk-toggleable__content pre {margin: 0.2em;color: black;border-radius: 0.25em;background-color: #f0f8ff;}#sk-container-id-1 input.sk-toggleable__control:checked~div.sk-toggleable__content {max-height: 200px;max-width: 100%;overflow: auto;}#sk-container-id-1 input.sk-toggleable__control:checked~label.sk-toggleable__label-arrow:before {content: \"▾\";}#sk-container-id-1 div.sk-estimator input.sk-toggleable__control:checked~label.sk-toggleable__label {background-color: #d4ebff;}#sk-container-id-1 div.sk-label input.sk-toggleable__control:checked~label.sk-toggleable__label {background-color: #d4ebff;}#sk-container-id-1 input.sk-hidden--visually {border: 0;clip: rect(1px 1px 1px 1px);clip: rect(1px, 1px, 1px, 1px);height: 1px;margin: -1px;overflow: hidden;padding: 0;position: absolute;width: 1px;}#sk-container-id-1 div.sk-estimator {font-family: monospace;background-color: #f0f8ff;border: 1px dotted black;border-radius: 0.25em;box-sizing: border-box;margin-bottom: 0.5em;}#sk-container-id-1 div.sk-estimator:hover {background-color: #d4ebff;}#sk-container-id-1 div.sk-parallel-item::after {content: \"\";width: 100%;border-bottom: 1px solid gray;flex-grow: 1;}#sk-container-id-1 div.sk-label:hover label.sk-toggleable__label {background-color: #d4ebff;}#sk-container-id-1 div.sk-serial::before {content: \"\";position: absolute;border-left: 1px solid gray;box-sizing: border-box;top: 0;bottom: 0;left: 50%;z-index: 0;}#sk-container-id-1 div.sk-serial {display: flex;flex-direction: column;align-items: center;background-color: white;padding-right: 0.2em;padding-left: 0.2em;position: relative;}#sk-container-id-1 div.sk-item {position: relative;z-index: 1;}#sk-container-id-1 div.sk-parallel {display: flex;align-items: stretch;justify-content: center;background-color: white;position: relative;}#sk-container-id-1 div.sk-item::before, #sk-container-id-1 div.sk-parallel-item::before {content: \"\";position: absolute;border-left: 1px solid gray;box-sizing: border-box;top: 0;bottom: 0;left: 50%;z-index: -1;}#sk-container-id-1 div.sk-parallel-item {display: flex;flex-direction: column;z-index: 1;position: relative;background-color: white;}#sk-container-id-1 div.sk-parallel-item:first-child::after {align-self: flex-end;width: 50%;}#sk-container-id-1 div.sk-parallel-item:last-child::after {align-self: flex-start;width: 50%;}#sk-container-id-1 div.sk-parallel-item:only-child::after {width: 0;}#sk-container-id-1 div.sk-dashed-wrapped {border: 1px dashed gray;margin: 0 0.4em 0.5em 0.4em;box-sizing: border-box;padding-bottom: 0.4em;background-color: white;}#sk-container-id-1 div.sk-label label {font-family: monospace;font-weight: bold;display: inline-block;line-height: 1.2em;}#sk-container-id-1 div.sk-label-container {text-align: center;}#sk-container-id-1 div.sk-container {/* jupyter's `normalize.less` sets `[hidden] { display: none; }` but bootstrap.min.css set `[hidden] { display: none !important; }` so we also need the `!important` here to be able to override the default hidden behavior on the sphinx rendered scikit-learn.org. See: https://github.com/scikit-learn/scikit-learn/issues/21755 */display: inline-block !important;position: relative;}#sk-container-id-1 div.sk-text-repr-fallback {display: none;}</style><div id=\"sk-container-id-1\" class=\"sk-top-container\"><div class=\"sk-text-repr-fallback\"><pre>RandomForestClassifier(min_samples_split=100, random_state=1)</pre><b>In a Jupyter environment, please rerun this cell to show the HTML representation or trust the notebook. <br />On GitHub, the HTML representation is unable to render, please try loading this page with nbviewer.org.</b></div><div class=\"sk-container\" hidden><div class=\"sk-item\"><div class=\"sk-estimator sk-toggleable\"><input class=\"sk-toggleable__control sk-hidden--visually\" id=\"sk-estimator-id-1\" type=\"checkbox\" checked><label for=\"sk-estimator-id-1\" class=\"sk-toggleable__label sk-toggleable__label-arrow\">RandomForestClassifier</label><div class=\"sk-toggleable__content\"><pre>RandomForestClassifier(min_samples_split=100, random_state=1)</pre></div></div></div></div></div>"
      ],
      "text/plain": [
       "RandomForestClassifier(min_samples_split=100, random_state=1)"
      ]
     },
     "execution_count": 16,
     "metadata": {},
     "output_type": "execute_result"
    }
   ],
   "source": [
    "predictors = ['Open', 'High', 'Low', 'Close', 'Volume']\n",
    "model = RandomForestClassifier(n_estimators=100, min_samples_split=100, random_state=1)\n",
    "\n",
    "model.fit(train[predictors], train['Price volatility'])"
   ]
  },
  {
   "cell_type": "code",
   "execution_count": 17,
   "metadata": {},
   "outputs": [],
   "source": [
    "from sklearn.metrics import precision_score\n",
    "\n",
    "predict_result = pd.Series(model.predict(test[predictors]), index=test.index)"
   ]
  },
  {
   "cell_type": "code",
   "execution_count": 18,
   "metadata": {},
   "outputs": [
    {
     "data": {
      "text/plain": [
       "77926    0\n",
       "77927    0\n",
       "77928    0\n",
       "77929    0\n",
       "77930    0\n",
       "        ..\n",
       "97401    0\n",
       "97402    0\n",
       "97403    0\n",
       "97404    0\n",
       "97405    0\n",
       "Length: 19480, dtype: int32"
      ]
     },
     "execution_count": 18,
     "metadata": {},
     "output_type": "execute_result"
    }
   ],
   "source": [
    "predict_result"
   ]
  },
  {
   "cell_type": "code",
   "execution_count": 19,
   "metadata": {},
   "outputs": [
    {
     "data": {
      "text/plain": [
       "0.4253393665158371"
      ]
     },
     "execution_count": 19,
     "metadata": {},
     "output_type": "execute_result"
    }
   ],
   "source": [
    "precision_score(test['Price volatility'], predict_result)"
   ]
  },
  {
   "cell_type": "markdown",
   "metadata": {},
   "source": [
    "Tỉ lệ dự đoán chính xác tăng giảm của mô hình xấp xỉ 43%\n"
   ]
  },
  {
   "cell_type": "code",
   "execution_count": 20,
   "metadata": {},
   "outputs": [
    {
     "data": {
      "text/plain": [
       "<Axes: >"
      ]
     },
     "execution_count": 20,
     "metadata": {},
     "output_type": "execute_result"
    },
    {
     "data": {
      "image/png": "[encoded data removed]",
      "text/plain": [
       "<Figure size 2000x1000 with 1 Axes>"
      ]
     },
     "metadata": {},
     "output_type": "display_data"
    }
   ],
   "source": [
    "visual = pd.concat([test['Price volatility'], predict_result], axis=1)\n",
    "\n",
    "visual.plot(figsize=(20,10))"
   ]
  },
  {
   "cell_type": "code",
   "execution_count": 21,
   "metadata": {},
   "outputs": [
    {
     "data": {
      "text/html": [
       "<div>\n",
       "<style scoped>\n",
       "    .dataframe tbody tr th:only-of-type {\n",
       "        vertical-align: middle;\n",
       "    }\n",
       "\n",
       "    .dataframe tbody tr th {\n",
       "        vertical-align: top;\n",
       "    }\n",
       "\n",
       "    .dataframe thead th {\n",
       "        text-align: right;\n",
       "    }\n",
       "</style>\n",
       "<table border=\"1\" class=\"dataframe\">\n",
       "  <thead>\n",
       "    <tr style=\"text-align: right;\">\n",
       "      <th></th>\n",
       "      <th>Ticker</th>\n",
       "      <th>Date/Time</th>\n",
       "      <th>Open</th>\n",
       "      <th>High</th>\n",
       "      <th>Low</th>\n",
       "      <th>Close</th>\n",
       "      <th>Volume</th>\n",
       "      <th>Next Turn</th>\n",
       "      <th>Price volatility</th>\n",
       "    </tr>\n",
       "  </thead>\n",
       "  <tbody>\n",
       "    <tr>\n",
       "      <th>0</th>\n",
       "      <td>FPT</td>\n",
       "      <td>2018-12-25 09:15:00</td>\n",
       "      <td>30.89</td>\n",
       "      <td>30.89</td>\n",
       "      <td>30.89</td>\n",
       "      <td>30.89</td>\n",
       "      <td>35410</td>\n",
       "      <td>30.81</td>\n",
       "      <td>0</td>\n",
       "    </tr>\n",
       "    <tr>\n",
       "      <th>1</th>\n",
       "      <td>FPT</td>\n",
       "      <td>2018-12-25 09:16:00</td>\n",
       "      <td>30.81</td>\n",
       "      <td>30.81</td>\n",
       "      <td>30.81</td>\n",
       "      <td>30.81</td>\n",
       "      <td>190</td>\n",
       "      <td>30.74</td>\n",
       "      <td>0</td>\n",
       "    </tr>\n",
       "    <tr>\n",
       "      <th>2</th>\n",
       "      <td>FPT</td>\n",
       "      <td>2018-12-25 09:17:00</td>\n",
       "      <td>30.74</td>\n",
       "      <td>30.81</td>\n",
       "      <td>30.74</td>\n",
       "      <td>30.74</td>\n",
       "      <td>1120</td>\n",
       "      <td>30.74</td>\n",
       "      <td>0</td>\n",
       "    </tr>\n",
       "    <tr>\n",
       "      <th>3</th>\n",
       "      <td>FPT</td>\n",
       "      <td>2018-12-25 09:18:00</td>\n",
       "      <td>30.74</td>\n",
       "      <td>30.74</td>\n",
       "      <td>30.74</td>\n",
       "      <td>30.74</td>\n",
       "      <td>2120</td>\n",
       "      <td>30.74</td>\n",
       "      <td>0</td>\n",
       "    </tr>\n",
       "    <tr>\n",
       "      <th>4</th>\n",
       "      <td>FPT</td>\n",
       "      <td>2018-12-25 09:19:00</td>\n",
       "      <td>30.74</td>\n",
       "      <td>30.74</td>\n",
       "      <td>30.74</td>\n",
       "      <td>30.74</td>\n",
       "      <td>22500</td>\n",
       "      <td>30.74</td>\n",
       "      <td>0</td>\n",
       "    </tr>\n",
       "    <tr>\n",
       "      <th>...</th>\n",
       "      <td>...</td>\n",
       "      <td>...</td>\n",
       "      <td>...</td>\n",
       "      <td>...</td>\n",
       "      <td>...</td>\n",
       "      <td>...</td>\n",
       "      <td>...</td>\n",
       "      <td>...</td>\n",
       "      <td>...</td>\n",
       "    </tr>\n",
       "    <tr>\n",
       "      <th>97401</th>\n",
       "      <td>FPT</td>\n",
       "      <td>2020-12-22 14:24:00</td>\n",
       "      <td>58.20</td>\n",
       "      <td>58.20</td>\n",
       "      <td>58.20</td>\n",
       "      <td>58.20</td>\n",
       "      <td>27470</td>\n",
       "      <td>58.20</td>\n",
       "      <td>0</td>\n",
       "    </tr>\n",
       "    <tr>\n",
       "      <th>97402</th>\n",
       "      <td>FPT</td>\n",
       "      <td>2020-12-22 14:25:00</td>\n",
       "      <td>58.20</td>\n",
       "      <td>58.20</td>\n",
       "      <td>58.20</td>\n",
       "      <td>58.20</td>\n",
       "      <td>14820</td>\n",
       "      <td>58.20</td>\n",
       "      <td>0</td>\n",
       "    </tr>\n",
       "    <tr>\n",
       "      <th>97403</th>\n",
       "      <td>FPT</td>\n",
       "      <td>2020-12-22 14:26:00</td>\n",
       "      <td>58.20</td>\n",
       "      <td>58.20</td>\n",
       "      <td>58.20</td>\n",
       "      <td>58.20</td>\n",
       "      <td>500</td>\n",
       "      <td>58.10</td>\n",
       "      <td>0</td>\n",
       "    </tr>\n",
       "    <tr>\n",
       "      <th>97404</th>\n",
       "      <td>FPT</td>\n",
       "      <td>2020-12-22 14:29:00</td>\n",
       "      <td>58.10</td>\n",
       "      <td>58.10</td>\n",
       "      <td>58.10</td>\n",
       "      <td>58.10</td>\n",
       "      <td>2500</td>\n",
       "      <td>58.10</td>\n",
       "      <td>0</td>\n",
       "    </tr>\n",
       "    <tr>\n",
       "      <th>97405</th>\n",
       "      <td>FPT</td>\n",
       "      <td>2020-12-22 14:46:00</td>\n",
       "      <td>58.10</td>\n",
       "      <td>58.10</td>\n",
       "      <td>58.10</td>\n",
       "      <td>58.10</td>\n",
       "      <td>11170</td>\n",
       "      <td>NaN</td>\n",
       "      <td>0</td>\n",
       "    </tr>\n",
       "  </tbody>\n",
       "</table>\n",
       "<p>97406 rows × 9 columns</p>\n",
       "</div>"
      ],
      "text/plain": [
       "      Ticker           Date/Time   Open   High    Low  Close  Volume  \\\n",
       "0        FPT 2018-12-25 09:15:00  30.89  30.89  30.89  30.89   35410   \n",
       "1        FPT 2018-12-25 09:16:00  30.81  30.81  30.81  30.81     190   \n",
       "2        FPT 2018-12-25 09:17:00  30.74  30.81  30.74  30.74    1120   \n",
       "3        FPT 2018-12-25 09:18:00  30.74  30.74  30.74  30.74    2120   \n",
       "4        FPT 2018-12-25 09:19:00  30.74  30.74  30.74  30.74   22500   \n",
       "...      ...                 ...    ...    ...    ...    ...     ...   \n",
       "97401    FPT 2020-12-22 14:24:00  58.20  58.20  58.20  58.20   27470   \n",
       "97402    FPT 2020-12-22 14:25:00  58.20  58.20  58.20  58.20   14820   \n",
       "97403    FPT 2020-12-22 14:26:00  58.20  58.20  58.20  58.20     500   \n",
       "97404    FPT 2020-12-22 14:29:00  58.10  58.10  58.10  58.10    2500   \n",
       "97405    FPT 2020-12-22 14:46:00  58.10  58.10  58.10  58.10   11170   \n",
       "\n",
       "       Next Turn  Price volatility  \n",
       "0          30.81                 0  \n",
       "1          30.74                 0  \n",
       "2          30.74                 0  \n",
       "3          30.74                 0  \n",
       "4          30.74                 0  \n",
       "...          ...               ...  \n",
       "97401      58.20                 0  \n",
       "97402      58.20                 0  \n",
       "97403      58.10                 0  \n",
       "97404      58.10                 0  \n",
       "97405        NaN                 0  \n",
       "\n",
       "[97406 rows x 9 columns]"
      ]
     },
     "execution_count": 21,
     "metadata": {},
     "output_type": "execute_result"
    }
   ],
   "source": [
    "df"
   ]
  },
  {
   "cell_type": "markdown",
   "metadata": {},
   "source": [
    "Thêm 1 số feature về phân tích kỹ thuật vào\n"
   ]
  },
  {
   "cell_type": "code",
   "execution_count": 22,
   "metadata": {},
   "outputs": [
    {
     "data": {
      "text/html": [
       "<div>\n",
       "<style scoped>\n",
       "    .dataframe tbody tr th:only-of-type {\n",
       "        vertical-align: middle;\n",
       "    }\n",
       "\n",
       "    .dataframe tbody tr th {\n",
       "        vertical-align: top;\n",
       "    }\n",
       "\n",
       "    .dataframe thead th {\n",
       "        text-align: right;\n",
       "    }\n",
       "</style>\n",
       "<table border=\"1\" class=\"dataframe\">\n",
       "  <thead>\n",
       "    <tr style=\"text-align: right;\">\n",
       "      <th></th>\n",
       "      <th>Ticker</th>\n",
       "      <th>Date/Time</th>\n",
       "      <th>Open</th>\n",
       "      <th>High</th>\n",
       "      <th>Low</th>\n",
       "      <th>Close</th>\n",
       "      <th>Volume</th>\n",
       "      <th>Next Turn</th>\n",
       "      <th>Price volatility</th>\n",
       "      <th>RSI</th>\n",
       "    </tr>\n",
       "  </thead>\n",
       "  <tbody>\n",
       "    <tr>\n",
       "      <th>0</th>\n",
       "      <td>FPT</td>\n",
       "      <td>2018-12-25 09:15:00</td>\n",
       "      <td>30.89</td>\n",
       "      <td>30.89</td>\n",
       "      <td>30.89</td>\n",
       "      <td>30.89</td>\n",
       "      <td>35410</td>\n",
       "      <td>30.81</td>\n",
       "      <td>0</td>\n",
       "      <td>NaN</td>\n",
       "    </tr>\n",
       "    <tr>\n",
       "      <th>1</th>\n",
       "      <td>FPT</td>\n",
       "      <td>2018-12-25 09:16:00</td>\n",
       "      <td>30.81</td>\n",
       "      <td>30.81</td>\n",
       "      <td>30.81</td>\n",
       "      <td>30.81</td>\n",
       "      <td>190</td>\n",
       "      <td>30.74</td>\n",
       "      <td>0</td>\n",
       "      <td>NaN</td>\n",
       "    </tr>\n",
       "    <tr>\n",
       "      <th>2</th>\n",
       "      <td>FPT</td>\n",
       "      <td>2018-12-25 09:17:00</td>\n",
       "      <td>30.74</td>\n",
       "      <td>30.81</td>\n",
       "      <td>30.74</td>\n",
       "      <td>30.74</td>\n",
       "      <td>1120</td>\n",
       "      <td>30.74</td>\n",
       "      <td>0</td>\n",
       "      <td>NaN</td>\n",
       "    </tr>\n",
       "    <tr>\n",
       "      <th>3</th>\n",
       "      <td>FPT</td>\n",
       "      <td>2018-12-25 09:18:00</td>\n",
       "      <td>30.74</td>\n",
       "      <td>30.74</td>\n",
       "      <td>30.74</td>\n",
       "      <td>30.74</td>\n",
       "      <td>2120</td>\n",
       "      <td>30.74</td>\n",
       "      <td>0</td>\n",
       "      <td>NaN</td>\n",
       "    </tr>\n",
       "    <tr>\n",
       "      <th>4</th>\n",
       "      <td>FPT</td>\n",
       "      <td>2018-12-25 09:19:00</td>\n",
       "      <td>30.74</td>\n",
       "      <td>30.74</td>\n",
       "      <td>30.74</td>\n",
       "      <td>30.74</td>\n",
       "      <td>22500</td>\n",
       "      <td>30.74</td>\n",
       "      <td>0</td>\n",
       "      <td>NaN</td>\n",
       "    </tr>\n",
       "    <tr>\n",
       "      <th>...</th>\n",
       "      <td>...</td>\n",
       "      <td>...</td>\n",
       "      <td>...</td>\n",
       "      <td>...</td>\n",
       "      <td>...</td>\n",
       "      <td>...</td>\n",
       "      <td>...</td>\n",
       "      <td>...</td>\n",
       "      <td>...</td>\n",
       "      <td>...</td>\n",
       "    </tr>\n",
       "    <tr>\n",
       "      <th>97401</th>\n",
       "      <td>FPT</td>\n",
       "      <td>2020-12-22 14:24:00</td>\n",
       "      <td>58.20</td>\n",
       "      <td>58.20</td>\n",
       "      <td>58.20</td>\n",
       "      <td>58.20</td>\n",
       "      <td>27470</td>\n",
       "      <td>58.20</td>\n",
       "      <td>0</td>\n",
       "      <td>58.598755</td>\n",
       "    </tr>\n",
       "    <tr>\n",
       "      <th>97402</th>\n",
       "      <td>FPT</td>\n",
       "      <td>2020-12-22 14:25:00</td>\n",
       "      <td>58.20</td>\n",
       "      <td>58.20</td>\n",
       "      <td>58.20</td>\n",
       "      <td>58.20</td>\n",
       "      <td>14820</td>\n",
       "      <td>58.20</td>\n",
       "      <td>0</td>\n",
       "      <td>58.598755</td>\n",
       "    </tr>\n",
       "    <tr>\n",
       "      <th>97403</th>\n",
       "      <td>FPT</td>\n",
       "      <td>2020-12-22 14:26:00</td>\n",
       "      <td>58.20</td>\n",
       "      <td>58.20</td>\n",
       "      <td>58.20</td>\n",
       "      <td>58.20</td>\n",
       "      <td>500</td>\n",
       "      <td>58.10</td>\n",
       "      <td>0</td>\n",
       "      <td>58.598755</td>\n",
       "    </tr>\n",
       "    <tr>\n",
       "      <th>97404</th>\n",
       "      <td>FPT</td>\n",
       "      <td>2020-12-22 14:29:00</td>\n",
       "      <td>58.10</td>\n",
       "      <td>58.10</td>\n",
       "      <td>58.10</td>\n",
       "      <td>58.10</td>\n",
       "      <td>2500</td>\n",
       "      <td>58.10</td>\n",
       "      <td>0</td>\n",
       "      <td>48.632330</td>\n",
       "    </tr>\n",
       "    <tr>\n",
       "      <th>97405</th>\n",
       "      <td>FPT</td>\n",
       "      <td>2020-12-22 14:46:00</td>\n",
       "      <td>58.10</td>\n",
       "      <td>58.10</td>\n",
       "      <td>58.10</td>\n",
       "      <td>58.10</td>\n",
       "      <td>11170</td>\n",
       "      <td>NaN</td>\n",
       "      <td>0</td>\n",
       "      <td>48.632330</td>\n",
       "    </tr>\n",
       "  </tbody>\n",
       "</table>\n",
       "<p>97406 rows × 10 columns</p>\n",
       "</div>"
      ],
      "text/plain": [
       "      Ticker           Date/Time   Open   High    Low  Close  Volume  \\\n",
       "0        FPT 2018-12-25 09:15:00  30.89  30.89  30.89  30.89   35410   \n",
       "1        FPT 2018-12-25 09:16:00  30.81  30.81  30.81  30.81     190   \n",
       "2        FPT 2018-12-25 09:17:00  30.74  30.81  30.74  30.74    1120   \n",
       "3        FPT 2018-12-25 09:18:00  30.74  30.74  30.74  30.74    2120   \n",
       "4        FPT 2018-12-25 09:19:00  30.74  30.74  30.74  30.74   22500   \n",
       "...      ...                 ...    ...    ...    ...    ...     ...   \n",
       "97401    FPT 2020-12-22 14:24:00  58.20  58.20  58.20  58.20   27470   \n",
       "97402    FPT 2020-12-22 14:25:00  58.20  58.20  58.20  58.20   14820   \n",
       "97403    FPT 2020-12-22 14:26:00  58.20  58.20  58.20  58.20     500   \n",
       "97404    FPT 2020-12-22 14:29:00  58.10  58.10  58.10  58.10    2500   \n",
       "97405    FPT 2020-12-22 14:46:00  58.10  58.10  58.10  58.10   11170   \n",
       "\n",
       "       Next Turn  Price volatility        RSI  \n",
       "0          30.81                 0        NaN  \n",
       "1          30.74                 0        NaN  \n",
       "2          30.74                 0        NaN  \n",
       "3          30.74                 0        NaN  \n",
       "4          30.74                 0        NaN  \n",
       "...          ...               ...        ...  \n",
       "97401      58.20                 0  58.598755  \n",
       "97402      58.20                 0  58.598755  \n",
       "97403      58.10                 0  58.598755  \n",
       "97404      58.10                 0  48.632330  \n",
       "97405        NaN                 0  48.632330  \n",
       "\n",
       "[97406 rows x 10 columns]"
      ]
     },
     "execution_count": 22,
     "metadata": {},
     "output_type": "execute_result"
    }
   ],
   "source": [
    "import ta \n",
    "\n",
    "df_new = df.copy()\n",
    "\n",
    "df_new['RSI'] = ta.momentum.RSIIndicator(df_new['Close']).rsi()\n",
    "\n",
    "df_new"
   ]
  },
  {
   "cell_type": "code",
   "execution_count": 23,
   "metadata": {},
   "outputs": [
    {
     "data": {
      "text/plain": [
       "13"
      ]
     },
     "execution_count": 23,
     "metadata": {},
     "output_type": "execute_result"
    }
   ],
   "source": [
    "df_new['RSI'].isna().sum()"
   ]
  },
  {
   "cell_type": "code",
   "execution_count": 24,
   "metadata": {},
   "outputs": [],
   "source": [
    "macd = ta.trend.MACD(df_new['Close'])\n",
    "df_new['MACD'], df_new['MACD_Signal'], df_new['MACD_Hist'] = macd.macd(), macd.macd_signal(), macd.macd_diff()\n"
   ]
  },
  {
   "cell_type": "code",
   "execution_count": 25,
   "metadata": {},
   "outputs": [],
   "source": [
    "df_new.dropna(inplace=True)"
   ]
  },
  {
   "cell_type": "code",
   "execution_count": 26,
   "metadata": {},
   "outputs": [
    {
     "data": {
      "text/plain": [
       "0.4444444444444444"
      ]
     },
     "execution_count": 26,
     "metadata": {},
     "output_type": "execute_result"
    }
   ],
   "source": [
    "train = df_new[:round(len(df_new)*0.8)]\n",
    "test = df_new[round(len(df_new)*0.8):]\n",
    "\n",
    "predictors = ['Open', 'High', 'Low', 'Close', 'Volume', 'RSI', 'MACD', 'MACD_Signal', 'MACD_Hist']\n",
    "model = RandomForestClassifier(n_estimators=100, min_samples_split=100, random_state=1)\n",
    "model.fit(train[predictors], train['Price volatility'])\n",
    "\n",
    "predict_result = pd.Series(model.predict(test[predictors]), index=test.index)\n",
    "precision_score(test['Price volatility'], predict_result)\n"
   ]
  },
  {
   "cell_type": "markdown",
   "metadata": {},
   "source": [
    "Sau khi thêm một số thuộc tính về phân tích kĩ thuật độ chính xác có tăng lên nhưng không đáng kể\n"
   ]
  }
 ],
 "metadata": {
  "kernelspec": {
   "display_name": "Python 3",
   "language": "python",
   "name": "python3"
  },
  "language_info": {
   "codemirror_mode": {
    "name": "ipython",
    "version": 3
   },
   "file_extension": ".py",
   "mimetype": "text/x-python",
   "name": "python",
   "nbconvert_exporter": "python",
   "pygments_lexer": "ipython3",
   "version": "3.12.1"
  }
 },
 "nbformat": 4,
 "nbformat_minor": 2
}
